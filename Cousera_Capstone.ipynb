{
 "cells": [
  {
   "cell_type": "code",
   "execution_count": 44,
   "metadata": {
    "collapsed": true
   },
   "outputs": [],
   "source": [
    "import pandas as pd\n",
    "import numpy as np\n",
    "import requests\n",
    "from bs4 import BeautifulSoup\n",
    "import requests\n",
    "from pandas.io.json import json_normalize"
   ]
  },
  {
   "cell_type": "markdown",
   "metadata": {},
   "source": [
    "# Hello Capstone Project Course!"
   ]
  },
  {
   "cell_type": "markdown",
   "metadata": {},
   "source": [
    "I will mostly be using this notebook for my capstone project with Coursera\n",
    "\n",
    "I will peridoically update it"
   ]
  },
  {
   "cell_type": "markdown",
   "metadata": {},
   "source": [
    "I have saved the data from the scraping and cleaning into a csv file, and I load it in the following cell"
   ]
  },
  {
   "cell_type": "code",
   "execution_count": 45,
   "metadata": {},
   "outputs": [],
   "source": [
    "df=pd.read_csv('lat_lon_ata.csv').iloc[:,1:]"
   ]
  },
  {
   "cell_type": "code",
   "execution_count": 46,
   "metadata": {},
   "outputs": [
    {
     "data": {
      "text/html": [
       "<div>\n",
       "<style scoped>\n",
       "    .dataframe tbody tr th:only-of-type {\n",
       "        vertical-align: middle;\n",
       "    }\n",
       "\n",
       "    .dataframe tbody tr th {\n",
       "        vertical-align: top;\n",
       "    }\n",
       "\n",
       "    .dataframe thead th {\n",
       "        text-align: right;\n",
       "    }\n",
       "</style>\n",
       "<table border=\"1\" class=\"dataframe\">\n",
       "  <thead>\n",
       "    <tr style=\"text-align: right;\">\n",
       "      <th></th>\n",
       "      <th>Postcode</th>\n",
       "      <th>Borough</th>\n",
       "      <th>Neighbourhood</th>\n",
       "      <th>Lat</th>\n",
       "      <th>Long</th>\n",
       "    </tr>\n",
       "  </thead>\n",
       "  <tbody>\n",
       "    <tr>\n",
       "      <th>0</th>\n",
       "      <td>M3A</td>\n",
       "      <td>North York</td>\n",
       "      <td>Parkwoods</td>\n",
       "      <td>43.753259</td>\n",
       "      <td>-79.329656</td>\n",
       "    </tr>\n",
       "    <tr>\n",
       "      <th>1</th>\n",
       "      <td>M4A</td>\n",
       "      <td>North York</td>\n",
       "      <td>Victoria Village</td>\n",
       "      <td>43.725882</td>\n",
       "      <td>-79.315572</td>\n",
       "    </tr>\n",
       "    <tr>\n",
       "      <th>2</th>\n",
       "      <td>M5A</td>\n",
       "      <td>Downtown Toronto</td>\n",
       "      <td>Harbourfront</td>\n",
       "      <td>43.654260</td>\n",
       "      <td>-79.360636</td>\n",
       "    </tr>\n",
       "    <tr>\n",
       "      <th>3</th>\n",
       "      <td>M5A</td>\n",
       "      <td>Downtown Toronto</td>\n",
       "      <td>Regent Park</td>\n",
       "      <td>43.654260</td>\n",
       "      <td>-79.360636</td>\n",
       "    </tr>\n",
       "    <tr>\n",
       "      <th>4</th>\n",
       "      <td>M6A</td>\n",
       "      <td>North York</td>\n",
       "      <td>Lawrence Heights</td>\n",
       "      <td>43.718518</td>\n",
       "      <td>-79.464763</td>\n",
       "    </tr>\n",
       "  </tbody>\n",
       "</table>\n",
       "</div>"
      ],
      "text/plain": [
       "  Postcode           Borough     Neighbourhood        Lat       Long\n",
       "0      M3A        North York         Parkwoods  43.753259 -79.329656\n",
       "1      M4A        North York  Victoria Village  43.725882 -79.315572\n",
       "2      M5A  Downtown Toronto      Harbourfront  43.654260 -79.360636\n",
       "3      M5A  Downtown Toronto       Regent Park  43.654260 -79.360636\n",
       "4      M6A        North York  Lawrence Heights  43.718518 -79.464763"
      ]
     },
     "execution_count": 46,
     "metadata": {},
     "output_type": "execute_result"
    }
   ],
   "source": [
    "df.head()\n"
   ]
  },
  {
   "cell_type": "markdown",
   "metadata": {},
   "source": [
    "I have saved my foursquare credentials into an external text file, I load those credentials in the following cell"
   ]
  },
  {
   "cell_type": "code",
   "execution_count": 47,
   "metadata": {},
   "outputs": [],
   "source": [
    "with open('credentials.txt') as creds:\n",
    "    lines=creds.readlines()\n",
    "    \n",
    "for i in range(len(lines)):\n",
    "    lines[i]=lines[i].strip('\\n')"
   ]
  },
  {
   "cell_type": "code",
   "execution_count": 48,
   "metadata": {},
   "outputs": [],
   "source": [
    "CLIENT_ID,CLIENT_SECRET,VERSION,LIMIT=lines"
   ]
  },
  {
   "cell_type": "code",
   "execution_count": 142,
   "metadata": {},
   "outputs": [],
   "source": [
    "search_query = 'Park Golf'\n",
    "radius = 1000"
   ]
  },
  {
   "cell_type": "code",
   "execution_count": 143,
   "metadata": {},
   "outputs": [],
   "source": [
    "urls=[]\n",
    "for i in list(df.index):\n",
    "    lat,long=list(df.iloc[i].values[-2:])\n",
    "    url = 'https://api.foursquare.com/v2/venues/search?client_id={}&client_secret={}&ll={},{}&v={}&query={}&radius={}&limit={}'.format(CLIENT_ID, CLIENT_SECRET, lat, long, VERSION, search_query, radius, LIMIT)\n",
    "    urls.append(url)"
   ]
  },
  {
   "cell_type": "markdown",
   "metadata": {},
   "source": [
    "The following two cells use code given in the Four Square API tutorial, I modified it slightly to better suit this project, but it is largely identical."
   ]
  },
  {
   "cell_type": "code",
   "execution_count": 144,
   "metadata": {
    "collapsed": true
   },
   "outputs": [],
   "source": [
    "def get_category_type(row):\n",
    "    try:\n",
    "        categories_list = row['categories']\n",
    "    except:\n",
    "        categories_list = row['venue.categories']\n",
    "        \n",
    "    if len(categories_list) == 0:\n",
    "        return None\n",
    "    else:\n",
    "        return categories_list[0]['name']"
   ]
  },
  {
   "cell_type": "code",
   "execution_count": 166,
   "metadata": {},
   "outputs": [],
   "source": [
    "dfs_all=[]\n",
    "features=[]\n",
    "for i in urls[:4]:\n",
    "    results=requests.get(i).json()\n",
    "    try:\n",
    "        venues = results['response']['venues']\n",
    "        res_df = json_normalize(venues)\n",
    "        filtered_columns = ['name', 'categories'] + [col for col in res_df.columns if col.startswith('location.')] + ['id']\n",
    "        dataframe_filtered = res_df.loc[:, filtered_columns]\n",
    "        dataframe_filtered['categories'] = dataframe_filtered.apply(get_category_type, axis=1)\n",
    "        dataframe_filtered.columns = [column.split('.')[-1] for column in dataframe_filtered.columns]\n",
    "        dataframe_filtered_p=dataframe_filtered[dataframe_filtered['categories']=='Park']\n",
    "        dataframe_filtered_g=dataframe_filtered[dataframe_filtered['categories']=='Golf Course']\n",
    "        dfs_all.append(dataframe_filtered)\n",
    "        feat=[len(list(dataframe_filtered_p.index)),\n",
    "                         dataframe_filtered_p['distance'].mean(),\n",
    "                         len(list(dataframe_filtered_g.index)),\n",
    "                         dataframe_filtered_g['distance'].mean()]\n",
    "        for i in range(2):\n",
    "            if feat[2*i]==0:\n",
    "                feat[2*i+1]=0\n",
    "        features.append(feat)\n",
    "    except KeyError:\n",
    "        features.append([0,\n",
    "                         0,\n",
    "                         0,\n",
    "                         0])\n",
    "    \n",
    "    \n",
    "    "
   ]
  },
  {
   "cell_type": "code",
   "execution_count": null,
   "metadata": {},
   "outputs": [],
   "source": []
  },
  {
   "cell_type": "code",
   "execution_count": 135,
   "metadata": {},
   "outputs": [
    {
     "data": {
      "text/plain": [
       "740.5"
      ]
     },
     "execution_count": 135,
     "metadata": {},
     "output_type": "execute_result"
    }
   ],
   "source": [
    "dfs_all[1]['distance'].mean()"
   ]
  },
  {
   "cell_type": "code",
   "execution_count": 136,
   "metadata": {},
   "outputs": [
    {
     "data": {
      "text/html": [
       "<div>\n",
       "<style scoped>\n",
       "    .dataframe tbody tr th:only-of-type {\n",
       "        vertical-align: middle;\n",
       "    }\n",
       "\n",
       "    .dataframe tbody tr th {\n",
       "        vertical-align: top;\n",
       "    }\n",
       "\n",
       "    .dataframe thead th {\n",
       "        text-align: right;\n",
       "    }\n",
       "</style>\n",
       "<table border=\"1\" class=\"dataframe\">\n",
       "  <thead>\n",
       "    <tr style=\"text-align: right;\">\n",
       "      <th></th>\n",
       "      <th>name</th>\n",
       "      <th>categories</th>\n",
       "      <th>address</th>\n",
       "      <th>cc</th>\n",
       "      <th>city</th>\n",
       "      <th>country</th>\n",
       "      <th>crossStreet</th>\n",
       "      <th>distance</th>\n",
       "      <th>formattedAddress</th>\n",
       "      <th>labeledLatLngs</th>\n",
       "      <th>lat</th>\n",
       "      <th>lng</th>\n",
       "      <th>postalCode</th>\n",
       "      <th>state</th>\n",
       "      <th>id</th>\n",
       "    </tr>\n",
       "  </thead>\n",
       "  <tbody>\n",
       "    <tr>\n",
       "      <th>1</th>\n",
       "      <td>Brookbanks Park</td>\n",
       "      <td>Park</td>\n",
       "      <td>Toronto</td>\n",
       "      <td>CA</td>\n",
       "      <td>Toronto</td>\n",
       "      <td>Canada</td>\n",
       "      <td>NaN</td>\n",
       "      <td>245</td>\n",
       "      <td>[Toronto, Toronto ON, Canada]</td>\n",
       "      <td>[{'label': 'display', 'lat': 43.75197604605557...</td>\n",
       "      <td>43.751976</td>\n",
       "      <td>-79.332140</td>\n",
       "      <td>NaN</td>\n",
       "      <td>ON</td>\n",
       "      <td>4e8d9dcdd5fbbbb6b3003c7b</td>\n",
       "    </tr>\n",
       "    <tr>\n",
       "      <th>7</th>\n",
       "      <td>Ranchdale Park</td>\n",
       "      <td>Park</td>\n",
       "      <td>NaN</td>\n",
       "      <td>CA</td>\n",
       "      <td>NaN</td>\n",
       "      <td>Canada</td>\n",
       "      <td>NaN</td>\n",
       "      <td>639</td>\n",
       "      <td>[Canada]</td>\n",
       "      <td>[{'label': 'display', 'lat': 43.751388, 'lng':...</td>\n",
       "      <td>43.751388</td>\n",
       "      <td>-79.322138</td>\n",
       "      <td>NaN</td>\n",
       "      <td>NaN</td>\n",
       "      <td>4fad6522e4b08da80a56db50</td>\n",
       "    </tr>\n",
       "    <tr>\n",
       "      <th>8</th>\n",
       "      <td>Three Valleys Park</td>\n",
       "      <td>Park</td>\n",
       "      <td>NaN</td>\n",
       "      <td>CA</td>\n",
       "      <td>NaN</td>\n",
       "      <td>Canada</td>\n",
       "      <td>NaN</td>\n",
       "      <td>660</td>\n",
       "      <td>[Canada]</td>\n",
       "      <td>[{'label': 'display', 'lat': 43.75119469806736...</td>\n",
       "      <td>43.751195</td>\n",
       "      <td>-79.337356</td>\n",
       "      <td>NaN</td>\n",
       "      <td>NaN</td>\n",
       "      <td>53695918498e12363ff0d9ad</td>\n",
       "    </tr>\n",
       "    <tr>\n",
       "      <th>10</th>\n",
       "      <td>Sandover Park</td>\n",
       "      <td>Park</td>\n",
       "      <td>Sandover Dr.</td>\n",
       "      <td>CA</td>\n",
       "      <td>Toronto</td>\n",
       "      <td>Canada</td>\n",
       "      <td>at Clayland Dr.</td>\n",
       "      <td>834</td>\n",
       "      <td>[Sandover Dr. (at Clayland Dr.), Toronto ON, C...</td>\n",
       "      <td>[{'label': 'display', 'lat': 43.76027747979718...</td>\n",
       "      <td>43.760277</td>\n",
       "      <td>-79.333305</td>\n",
       "      <td>NaN</td>\n",
       "      <td>ON</td>\n",
       "      <td>4de4dc58e4cd056f747bbaef</td>\n",
       "    </tr>\n",
       "  </tbody>\n",
       "</table>\n",
       "</div>"
      ],
      "text/plain": [
       "                  name categories       address  cc     city country  \\\n",
       "1      Brookbanks Park       Park       Toronto  CA  Toronto  Canada   \n",
       "7       Ranchdale Park       Park           NaN  CA      NaN  Canada   \n",
       "8   Three Valleys Park       Park           NaN  CA      NaN  Canada   \n",
       "10       Sandover Park       Park  Sandover Dr.  CA  Toronto  Canada   \n",
       "\n",
       "        crossStreet  distance  \\\n",
       "1               NaN       245   \n",
       "7               NaN       639   \n",
       "8               NaN       660   \n",
       "10  at Clayland Dr.       834   \n",
       "\n",
       "                                     formattedAddress  \\\n",
       "1                       [Toronto, Toronto ON, Canada]   \n",
       "7                                            [Canada]   \n",
       "8                                            [Canada]   \n",
       "10  [Sandover Dr. (at Clayland Dr.), Toronto ON, C...   \n",
       "\n",
       "                                       labeledLatLngs        lat        lng  \\\n",
       "1   [{'label': 'display', 'lat': 43.75197604605557...  43.751976 -79.332140   \n",
       "7   [{'label': 'display', 'lat': 43.751388, 'lng':...  43.751388 -79.322138   \n",
       "8   [{'label': 'display', 'lat': 43.75119469806736...  43.751195 -79.337356   \n",
       "10  [{'label': 'display', 'lat': 43.76027747979718...  43.760277 -79.333305   \n",
       "\n",
       "   postalCode state                        id  \n",
       "1         NaN    ON  4e8d9dcdd5fbbbb6b3003c7b  \n",
       "7         NaN   NaN  4fad6522e4b08da80a56db50  \n",
       "8         NaN   NaN  53695918498e12363ff0d9ad  \n",
       "10        NaN    ON  4de4dc58e4cd056f747bbaef  "
      ]
     },
     "execution_count": 136,
     "metadata": {},
     "output_type": "execute_result"
    }
   ],
   "source": [
    "dfs_all[0]"
   ]
  },
  {
   "cell_type": "code",
   "execution_count": null,
   "metadata": {
    "collapsed": true
   },
   "outputs": [],
   "source": []
  }
 ],
 "metadata": {
  "kernelspec": {
   "display_name": "Python 3",
   "language": "python",
   "name": "python3"
  },
  "language_info": {
   "codemirror_mode": {
    "name": "ipython",
    "version": 3
   },
   "file_extension": ".py",
   "mimetype": "text/x-python",
   "name": "python",
   "nbconvert_exporter": "python",
   "pygments_lexer": "ipython3",
   "version": "3.6.1"
  }
 },
 "nbformat": 4,
 "nbformat_minor": 2
}
