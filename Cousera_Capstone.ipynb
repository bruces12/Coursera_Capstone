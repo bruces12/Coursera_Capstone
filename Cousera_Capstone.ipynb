{
 "cells": [
  {
   "cell_type": "code",
   "execution_count": 33,
   "metadata": {},
   "outputs": [],
   "source": [
    "import pandas as pd\n",
    "import numpy as np\n",
    "import requests\n",
    "from bs4 import BeautifulSoup\n",
    "import requests\n",
    "from pandas.io.json import json_normalize\n",
    "from sklearn.cluster import KMeans\n",
    "from matplotlib import pyplot as plt\n",
    "from sklearn.preprocessing import normalize"
   ]
  },
  {
   "cell_type": "markdown",
   "metadata": {},
   "source": [
    "I will mostly be using this notebook for my capstone project with Coursera\n",
    "\n",
    "I will peridoically update it"
   ]
  },
  {
   "cell_type": "markdown",
   "metadata": {},
   "source": [
    "# Hello Capstone Project Course!"
   ]
  },
  {
   "cell_type": "markdown",
   "metadata": {},
   "source": [
    "## Introduction"
   ]
  },
  {
   "cell_type": "markdown",
   "metadata": {},
   "source": [
    "I am going to be trying to help both businesses and individuals who are interested in social, outdoor activities.  People in this category may want to know how many parks are close to a given neighborhood since this will give more opportunities for outdoor social activities.  Businesses may want to know what neighborhoods are lacking these amenities since it may indicate areas of the market that are under-served, and they could offer alternatives to parks (such as golf courses).  If, for example, a business is considering building a golf course, they will need to know if there are other golf courses in the area they will need to compete against, and they will need to know how many parks are available which may be (economically speaking) a substitute for golf courses.  On the other hand, parks may be a compliment to golf courses, either way, it is vitally impr=ortant for businesses to know information about parks and golf courses in the area.\n",
    "\n"
   ]
  },
  {
   "cell_type": "markdown",
   "metadata": {},
   "source": [
    "## Data"
   ]
  },
  {
   "cell_type": "markdown",
   "metadata": {},
   "source": [
    "I will be leveraging four-square data to group neighborhoods in Toronto based on the number of parks within a given radius, number of golf courses within the same radius, and the average distance of those parks and golf courses (this will indicate whether the parks and golf courses are near the center or concentrated on the edges of the circle)."
   ]
  },
  {
   "cell_type": "markdown",
   "metadata": {},
   "source": [
    "## Methodology"
   ]
  },
  {
   "cell_type": "markdown",
   "metadata": {},
   "source": [
    "I have saved the data about neighborhoods from the scraping and cleaning into a csv file, and I load it in the following cell (see initial_scrape_cluster.ipynb)"
   ]
  },
  {
   "cell_type": "code",
   "execution_count": 7,
   "metadata": {},
   "outputs": [],
   "source": [
    "df=pd.read_csv('lat_lon_ata.csv')"
   ]
  },
  {
   "cell_type": "code",
   "execution_count": 8,
   "metadata": {},
   "outputs": [
    {
     "data": {
      "text/html": [
       "<div>\n",
       "<style scoped>\n",
       "    .dataframe tbody tr th:only-of-type {\n",
       "        vertical-align: middle;\n",
       "    }\n",
       "\n",
       "    .dataframe tbody tr th {\n",
       "        vertical-align: top;\n",
       "    }\n",
       "\n",
       "    .dataframe thead th {\n",
       "        text-align: right;\n",
       "    }\n",
       "</style>\n",
       "<table border=\"1\" class=\"dataframe\">\n",
       "  <thead>\n",
       "    <tr style=\"text-align: right;\">\n",
       "      <th></th>\n",
       "      <th>Unnamed: 0</th>\n",
       "      <th>Postcode</th>\n",
       "      <th>Borough</th>\n",
       "      <th>Neighbourhood</th>\n",
       "      <th>Lat</th>\n",
       "      <th>Long</th>\n",
       "    </tr>\n",
       "  </thead>\n",
       "  <tbody>\n",
       "    <tr>\n",
       "      <th>0</th>\n",
       "      <td>0</td>\n",
       "      <td>M3A</td>\n",
       "      <td>North York</td>\n",
       "      <td>Parkwoods</td>\n",
       "      <td>43.753259</td>\n",
       "      <td>-79.329656</td>\n",
       "    </tr>\n",
       "    <tr>\n",
       "      <th>1</th>\n",
       "      <td>1</td>\n",
       "      <td>M4A</td>\n",
       "      <td>North York</td>\n",
       "      <td>Victoria Village</td>\n",
       "      <td>43.725882</td>\n",
       "      <td>-79.315572</td>\n",
       "    </tr>\n",
       "    <tr>\n",
       "      <th>2</th>\n",
       "      <td>2</td>\n",
       "      <td>M5A</td>\n",
       "      <td>Downtown Toronto</td>\n",
       "      <td>Harbourfront</td>\n",
       "      <td>43.654260</td>\n",
       "      <td>-79.360636</td>\n",
       "    </tr>\n",
       "    <tr>\n",
       "      <th>3</th>\n",
       "      <td>3</td>\n",
       "      <td>M5A</td>\n",
       "      <td>Downtown Toronto</td>\n",
       "      <td>Regent Park</td>\n",
       "      <td>43.654260</td>\n",
       "      <td>-79.360636</td>\n",
       "    </tr>\n",
       "    <tr>\n",
       "      <th>4</th>\n",
       "      <td>4</td>\n",
       "      <td>M6A</td>\n",
       "      <td>North York</td>\n",
       "      <td>Lawrence Heights</td>\n",
       "      <td>43.718518</td>\n",
       "      <td>-79.464763</td>\n",
       "    </tr>\n",
       "  </tbody>\n",
       "</table>\n",
       "</div>"
      ],
      "text/plain": [
       "   Unnamed: 0 Postcode           Borough     Neighbourhood        Lat  \\\n",
       "0           0      M3A        North York         Parkwoods  43.753259   \n",
       "1           1      M4A        North York  Victoria Village  43.725882   \n",
       "2           2      M5A  Downtown Toronto      Harbourfront  43.654260   \n",
       "3           3      M5A  Downtown Toronto       Regent Park  43.654260   \n",
       "4           4      M6A        North York  Lawrence Heights  43.718518   \n",
       "\n",
       "        Long  \n",
       "0 -79.329656  \n",
       "1 -79.315572  \n",
       "2 -79.360636  \n",
       "3 -79.360636  \n",
       "4 -79.464763  "
      ]
     },
     "execution_count": 8,
     "metadata": {},
     "output_type": "execute_result"
    }
   ],
   "source": [
    "df.head()\n"
   ]
  },
  {
   "cell_type": "markdown",
   "metadata": {},
   "source": [
    "I have saved my foursquare credentials into an external text file, I load those credentials in the following cell (the file is not included)"
   ]
  },
  {
   "cell_type": "code",
   "execution_count": 11,
   "metadata": {},
   "outputs": [],
   "source": [
    "with open('credentials.txt') as creds:\n",
    "    lines=creds.readlines()\n",
    "    \n",
    "for i in range(len(lines)):\n",
    "    lines[i]=lines[i].strip('\\n')"
   ]
  },
  {
   "cell_type": "code",
   "execution_count": 12,
   "metadata": {},
   "outputs": [],
   "source": [
    "CLIENT_ID,CLIENT_SECRET,VERSION,LIMIT=lines"
   ]
  },
  {
   "cell_type": "markdown",
   "metadata": {},
   "source": [
    "We will search for Parks and Golf courses on four square"
   ]
  },
  {
   "cell_type": "code",
   "execution_count": 13,
   "metadata": {},
   "outputs": [],
   "source": [
    "search_query = 'Park Golf'\n",
    "radius = 1000"
   ]
  },
  {
   "cell_type": "code",
   "execution_count": 14,
   "metadata": {},
   "outputs": [],
   "source": [
    "urls=[]\n",
    "for i in list(df.index):\n",
    "    lat,long=list(df.iloc[i].values[-2:])\n",
    "    url = 'https://api.foursquare.com/v2/venues/search?client_id={}&client_secret={}&ll={},{}&v={}&query={}&radius={}&limit={}'.format(CLIENT_ID, CLIENT_SECRET, lat, long, VERSION, search_query, radius, LIMIT)\n",
    "    urls.append(url)"
   ]
  },
  {
   "cell_type": "markdown",
   "metadata": {},
   "source": [
    "The following two cells use code given in the Four Square API tutorial, I modified it slightly to better suit this project, but it is largely identical."
   ]
  },
  {
   "cell_type": "code",
   "execution_count": 15,
   "metadata": {},
   "outputs": [],
   "source": [
    "def get_category_type(row):\n",
    "    try:\n",
    "        categories_list = row['categories']\n",
    "    except:\n",
    "        categories_list = row['venue.categories']\n",
    "        \n",
    "    if len(categories_list) == 0:\n",
    "        return None\n",
    "    else:\n",
    "        return categories_list[0]['name']"
   ]
  },
  {
   "cell_type": "code",
   "execution_count": 21,
   "metadata": {},
   "outputs": [],
   "source": [
    "dfs_all=[]\n",
    "features=[]\n",
    "for i in urls:\n",
    "    results=requests.get(i).json()\n",
    "    try:\n",
    "        venues = results['response']['venues']\n",
    "        res_df = json_normalize(venues)\n",
    "        filtered_columns = ['name', 'categories'] + [col for col in res_df.columns if col.startswith('location.')] + ['id']\n",
    "        dataframe_filtered = res_df.loc[:, filtered_columns]\n",
    "        dataframe_filtered['categories'] = dataframe_filtered.apply(get_category_type, axis=1)\n",
    "        dataframe_filtered.columns = [column.split('.')[-1] for column in dataframe_filtered.columns]\n",
    "        dataframe_filtered_p=dataframe_filtered[dataframe_filtered['categories']=='Park']\n",
    "        dataframe_filtered_g=dataframe_filtered[dataframe_filtered['categories']=='Golf Course']\n",
    "        dfs_all.append(dataframe_filtered)\n",
    "        #create features based on the number of parks, golf courses, and the distance of each\n",
    "        feat=[len(list(dataframe_filtered_p.index)),\n",
    "                         dataframe_filtered_p['distance'].mean(),\n",
    "                         len(list(dataframe_filtered_g.index)),\n",
    "                         dataframe_filtered_g['distance'].mean()]\n",
    "        for i in range(2):\n",
    "            if feat[2*i]==0:\n",
    "                feat[2*i+1]=0\n",
    "        features.append(feat)\n",
    "    #If there is nothing close by, we set the features to zero, this will make it so that Kmeans will cluster the\n",
    "    #Neighborhoods without ammenities close by together, which is what we want\n",
    "    except KeyError:\n",
    "        features.append([0,\n",
    "                         0,\n",
    "                         0,\n",
    "                         0])\n",
    "    \n",
    "    \n",
    "    "
   ]
  },
  {
   "cell_type": "code",
   "execution_count": null,
   "metadata": {},
   "outputs": [],
   "source": []
  },
  {
   "cell_type": "code",
   "execution_count": 23,
   "metadata": {},
   "outputs": [
    {
     "data": {
      "text/plain": [
       "[[7, 761.8571428571429, 2, 942.5],\n",
       " [4, 1003.0, 1, 978.0],\n",
       " [11, 738.2727272727273, 0, 0],\n",
       " [11, 738.2727272727273, 0, 0],\n",
       " [3, 823.0, 0, 0]]"
      ]
     },
     "execution_count": 23,
     "metadata": {},
     "output_type": "execute_result"
    }
   ],
   "source": [
    "features[:5]"
   ]
  },
  {
   "cell_type": "code",
   "execution_count": 26,
   "metadata": {},
   "outputs": [],
   "source": [
    "features_df=pd.DataFrame(features)\n",
    "features_df.columns=['Park Count','Park Distance','Golf Count','Golf Distance']"
   ]
  },
  {
   "cell_type": "code",
   "execution_count": 27,
   "metadata": {},
   "outputs": [
    {
     "data": {
      "text/html": [
       "<div>\n",
       "<style scoped>\n",
       "    .dataframe tbody tr th:only-of-type {\n",
       "        vertical-align: middle;\n",
       "    }\n",
       "\n",
       "    .dataframe tbody tr th {\n",
       "        vertical-align: top;\n",
       "    }\n",
       "\n",
       "    .dataframe thead th {\n",
       "        text-align: right;\n",
       "    }\n",
       "</style>\n",
       "<table border=\"1\" class=\"dataframe\">\n",
       "  <thead>\n",
       "    <tr style=\"text-align: right;\">\n",
       "      <th></th>\n",
       "      <th>Park Count</th>\n",
       "      <th>Park Distance</th>\n",
       "      <th>Golf Count</th>\n",
       "      <th>Golf Distance</th>\n",
       "    </tr>\n",
       "  </thead>\n",
       "  <tbody>\n",
       "    <tr>\n",
       "      <th>0</th>\n",
       "      <td>7</td>\n",
       "      <td>761.857143</td>\n",
       "      <td>2</td>\n",
       "      <td>942.5</td>\n",
       "    </tr>\n",
       "    <tr>\n",
       "      <th>1</th>\n",
       "      <td>4</td>\n",
       "      <td>1003.000000</td>\n",
       "      <td>1</td>\n",
       "      <td>978.0</td>\n",
       "    </tr>\n",
       "    <tr>\n",
       "      <th>2</th>\n",
       "      <td>11</td>\n",
       "      <td>738.272727</td>\n",
       "      <td>0</td>\n",
       "      <td>0.0</td>\n",
       "    </tr>\n",
       "    <tr>\n",
       "      <th>3</th>\n",
       "      <td>11</td>\n",
       "      <td>738.272727</td>\n",
       "      <td>0</td>\n",
       "      <td>0.0</td>\n",
       "    </tr>\n",
       "    <tr>\n",
       "      <th>4</th>\n",
       "      <td>3</td>\n",
       "      <td>823.000000</td>\n",
       "      <td>0</td>\n",
       "      <td>0.0</td>\n",
       "    </tr>\n",
       "  </tbody>\n",
       "</table>\n",
       "</div>"
      ],
      "text/plain": [
       "   Park Count  Park Distance  Golf Count  Golf Distance\n",
       "0           7     761.857143           2          942.5\n",
       "1           4    1003.000000           1          978.0\n",
       "2          11     738.272727           0            0.0\n",
       "3          11     738.272727           0            0.0\n",
       "4           3     823.000000           0            0.0"
      ]
     },
     "execution_count": 27,
     "metadata": {},
     "output_type": "execute_result"
    }
   ],
   "source": [
    "features_df.head()"
   ]
  },
  {
   "cell_type": "code",
   "execution_count": 45,
   "metadata": {},
   "outputs": [],
   "source": [
    "norm_features=normalize(features_df,axis=0)"
   ]
  },
  {
   "cell_type": "code",
   "execution_count": 46,
   "metadata": {},
   "outputs": [],
   "source": [
    "clusters=KMeans(n_clusters=5, random_state=0).fit(norm_features)"
   ]
  },
  {
   "cell_type": "markdown",
   "metadata": {},
   "source": [
    "In this sectioni we plot the groups we found based on nearby parks and golf courses.  In the following visualization we are still looking at location, and since we are not grouping on location we may not see any obvious clustering; however we can see some patterns."
   ]
  },
  {
   "cell_type": "code",
   "execution_count": 48,
   "metadata": {},
   "outputs": [
    {
     "data": {
      "image/png": "[encoded data removed]",
      "text/plain": [
       "<Figure size 432x288 with 1 Axes>"
      ]
     },
     "metadata": {},
     "output_type": "display_data"
    }
   ],
   "source": [
    "for i in range(5):\n",
    "    points=df[['Lat','Long']][clusters.labels_==i]\n",
    "    plt.plot(points['Long'],points['Lat'],'.')\n",
    "plt.title('Toronto Borough Groups by Parks and Golf Courses Nearby')\n",
    "plt.show()"
   ]
  },
  {
   "cell_type": "markdown",
   "metadata": {},
   "source": [
    "In the following Visualization we plot the normalized number of parks against the normalized average distance, we can see some clustering here, but it's still not perfect since we can only see two of the four features we are clustering on."
   ]
  },
  {
   "cell_type": "code",
   "execution_count": 52,
   "metadata": {},
   "outputs": [
    {
     "data": {
      "image/png": "[encoded data removed]",
      "text/plain": [
       "<Figure size 432x288 with 1 Axes>"
      ]
     },
     "metadata": {},
     "output_type": "display_data"
    }
   ],
   "source": [
    "for i in range(5):\n",
    "    points=norm_features[:,:2][clusters.labels_==i]\n",
    "    plt.plot(points[:,0],points[:,1],'.')\n",
    "plt.title('Toronto Borough Groups by Parks and Golf Courses Nearby')\n",
    "plt.xlabel('Normalized Close Park Count')\n",
    "plt.ylabel('Normalized Average Park Distance')\n",
    "plt.show()"
   ]
  },
  {
   "cell_type": "markdown",
   "metadata": {},
   "source": [
    "Now in this Visualization we really can see how the groups were clustered.  The Green group has a medium number of close golf courses, but is far away on average, the red has about the same number of golf courses nearby compared to green, but the red group is closer to the golf courses on average. The orange has many golf courses nearby, but is farther away on average than the red. Last of all the purple has no golf courses nearby."
   ]
  },
  {
   "cell_type": "code",
   "execution_count": 53,
   "metadata": {},
   "outputs": [
    {
     "data": {
      "image/png": "[encoded data removed]",
      "text/plain": [
       "<Figure size 432x288 with 1 Axes>"
      ]
     },
     "metadata": {},
     "output_type": "display_data"
    }
   ],
   "source": [
    "for i in range(5):\n",
    "    points=norm_features[:,2:][clusters.labels_==i]\n",
    "    plt.plot(points[:,0],points[:,1],'.')\n",
    "plt.title('Toronto Borough Groups by Parks and Golf Courses Nearby')\n",
    "plt.xlabel('Normalized Close Golf Course Count')\n",
    "plt.ylabel('Normalized Average Golf Course Distance')\n",
    "plt.show()"
   ]
  },
  {
   "cell_type": "markdown",
   "metadata": {},
   "source": [
    "After looking at the data, it seems like golf courses are almost entirely defining the groups, so I will give greater weight to parks, and see if I can get a better balance."
   ]
  },
  {
   "cell_type": "code",
   "execution_count": 54,
   "metadata": {},
   "outputs": [
    {
     "data": {
      "text/plain": [
       "array([[0.05892974, 0.0668968 , 0.25      , 0.18694681],\n",
       "       [0.03367414, 0.08807096, 0.125     , 0.1939883 ],\n",
       "       [0.09260388, 0.06482591, 0.        , 0.        ],\n",
       "       [0.09260388, 0.06482591, 0.        , 0.        ],\n",
       "       [0.0252556 , 0.0722656 , 0.        , 0.        ]])"
      ]
     },
     "execution_count": 54,
     "metadata": {},
     "output_type": "execute_result"
    }
   ],
   "source": [
    "norm_features[:5]"
   ]
  },
  {
   "cell_type": "code",
   "execution_count": 76,
   "metadata": {},
   "outputs": [
    {
     "data": {
      "text/plain": [
       "array([[0.11785948, 0.1337936 , 0.25      , 0.18694681],\n",
       "       [0.06734828, 0.17614192, 0.125     , 0.1939883 ],\n",
       "       [0.18520776, 0.12965182, 0.        , 0.        ],\n",
       "       [0.18520776, 0.12965182, 0.        , 0.        ],\n",
       "       [0.05051121, 0.1445312 , 0.        , 0.        ]])"
      ]
     },
     "execution_count": 76,
     "metadata": {},
     "output_type": "execute_result"
    }
   ],
   "source": [
    "weighted_norm_features=np.copy(norm_features)\n",
    "weighted_norm_features[:,:2]*=2\n",
    "weighted_norm_features[:5]"
   ]
  },
  {
   "cell_type": "code",
   "execution_count": 77,
   "metadata": {},
   "outputs": [],
   "source": [
    "w_clusters=KMeans(n_clusters=5, random_state=0).fit(weighted_norm_features)"
   ]
  },
  {
   "cell_type": "code",
   "execution_count": 78,
   "metadata": {},
   "outputs": [
    {
     "data": {
      "image/png": "[encoded data removed]",
      "text/plain": [
       "<Figure size 432x288 with 1 Axes>"
      ]
     },
     "metadata": {},
     "output_type": "display_data"
    }
   ],
   "source": [
    "for i in range(5):\n",
    "    points=weighted_norm_features[:,:2][w_clusters.labels_==i]\n",
    "    plt.plot(points[:,0],points[:,1],'.')\n",
    "plt.title('Toronto Borough Groups by Parks and Golf Courses Nearby')\n",
    "plt.xlabel('Weighted Normalized Close Park Count')\n",
    "plt.ylabel('Weighted Normalized Average Park Distance')\n",
    "plt.show()"
   ]
  },
  {
   "cell_type": "markdown",
   "metadata": {},
   "source": [
    "Now the Groups seem to depend much more on both the parks and golf courses and not only the golf courses. "
   ]
  },
  {
   "cell_type": "code",
   "execution_count": 80,
   "metadata": {},
   "outputs": [
    {
     "data": {
      "image/png": "[encoded data removed]",
      "text/plain": [
       "<Figure size 432x288 with 1 Axes>"
      ]
     },
     "metadata": {},
     "output_type": "display_data"
    }
   ],
   "source": [
    "for i in range(5):\n",
    "    points=weighted_norm_features[:,2:][w_clusters.labels_==i]\n",
    "    plt.plot(points[:,0],points[:,1],'.')\n",
    "plt.title('Toronto Borough Groups by Parks and Golf Courses Nearby')\n",
    "plt.xlabel('Normalized Close Golf Course Count')\n",
    "plt.ylabel('Normalized Average Golf Course Distance')\n",
    "plt.show()"
   ]
  },
  {
   "cell_type": "markdown",
   "metadata": {},
   "source": [
    "Now we will plot average distance from golf courses and parks so that we can see a graph where both variables are continuous"
   ]
  },
  {
   "cell_type": "code",
   "execution_count": 82,
   "metadata": {},
   "outputs": [
    {
     "data": {
      "image/png": "[encoded data removed]",
      "text/plain": [
       "<Figure size 432x288 with 1 Axes>"
      ]
     },
     "metadata": {},
     "output_type": "display_data"
    }
   ],
   "source": [
    "for i in range(5):\n",
    "    points=weighted_norm_features[:,[1,3]][w_clusters.labels_==i]\n",
    "    plt.plot(points[:,0],points[:,1],'.')\n",
    "plt.title('Toronto Borough Groups by Parks and Golf Courses Nearby')\n",
    "plt.xlabel('Normalized Average Park Distance')\n",
    "plt.ylabel('Normalized Average Golf Course Distance')\n",
    "plt.show()"
   ]
  },
  {
   "cell_type": "markdown",
   "metadata": {},
   "source": [
    "From the Above plot, we can see that Purple and orange groups have few or no golf courses nearby, and from previous plots we know that thse groups also don't have as many parks, so businesses offering more options in outdoor social activities may find these areas to be a good area to expand into since there isn't as much competition."
   ]
  },
  {
   "cell_type": "markdown",
   "metadata": {},
   "source": [
    "## Discussion"
   ]
  },
  {
   "cell_type": "markdown",
   "metadata": {},
   "source": [
    "Based on the results of our clustering, we can clearly see that there are groups which are underserved.  The purple and orange groups are far away from golf courses, so these are good candidates for building a golf course.  In particular, the purple has very few golf courses, and very few parks, thus these neighborhoods can take some serious consideration.  If an individual is using this data to find what neighborhoods are desirable to live in, the green group seems to have a good combination of parks and golf courses."
   ]
  },
  {
   "cell_type": "markdown",
   "metadata": {},
   "source": [
    "## Conclusion"
   ]
  },
  {
   "cell_type": "markdown",
   "metadata": {},
   "source": [
    "The results seem to indicate the possibility of investment opportunities for businesses, but the results are only indicators.  More analysis may be necessary before a choice is made.  For example, some of the neighborhoods may on average attract individuals who are not looking for outdoor social activities.  If this is the case, the lack of outdoor ammenities in certain areas may be indicative of a lack of demand for these services, and not a lack of service.  In any case, these results provide a valuable starting point for further research."
   ]
  }
 ],
 "metadata": {
  "kernelspec": {
   "display_name": "Python 3",
   "language": "python",
   "name": "python3"
  },
  "language_info": {
   "codemirror_mode": {
    "name": "ipython",
    "version": 3
   },
   "file_extension": ".py",
   "mimetype": "text/x-python",
   "name": "python",
   "nbconvert_exporter": "python",
   "pygments_lexer": "ipython3",
   "version": "3.6.6"
  }
 },
 "nbformat": 4,
 "nbformat_minor": 2
}
